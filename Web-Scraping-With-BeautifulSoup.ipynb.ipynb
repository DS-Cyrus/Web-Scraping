{
 "cells": [
  {
   "cell_type": "markdown",
   "metadata": {},
   "source": [
    "**Beautiful Soup** is a Python library for pulling data out of HTML and XML files. It works with your favorite parser to provide idiomatic ways of navigating, searching, and modifying the parse tree."
   ]
  },
  {
   "cell_type": "markdown",
   "metadata": {},
   "source": [
    "As you can see in the previous paragraph (“Interacting with the page”) the instruction browser.execute_script can also return the value returned by the javascript code (as in the email scraping example). As a result, the whole scraping could be done in this way.\n"
   ]
  },
  {
   "cell_type": "markdown",
   "metadata": {},
   "source": [
    "However, if you don’t need to emulate a user interaction, but you just have to go through the HTML structure, you can use a parsing library (like Beautiful Soup) that do the job for you."
   ]
  },
  {
   "cell_type": "markdown",
   "metadata": {},
   "source": [
    "This opportunity could be interesting to exploit if — in case of huge scraping — you design your code to run on multi instances."
   ]
  },
  {
   "cell_type": "markdown",
   "metadata": {},
   "source": [
    "[Full Project1]()"
   ]
  }
 ],
 "metadata": {
  "kernelspec": {
   "display_name": "Python 3",
   "language": "python",
   "name": "python3"
  },
  "language_info": {
   "codemirror_mode": {
    "name": "ipython",
    "version": 3
   },
   "file_extension": ".py",
   "mimetype": "text/x-python",
   "name": "python",
   "nbconvert_exporter": "python",
   "pygments_lexer": "ipython3",
   "version": "3.7.3"
  }
 },
 "nbformat": 4,
 "nbformat_minor": 2
}
